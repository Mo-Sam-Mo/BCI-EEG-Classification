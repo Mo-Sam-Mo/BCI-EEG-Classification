{
  "nbformat": 4,
  "nbformat_minor": 0,
  "metadata": {
    "colab": {
      "provenance": [],
      "collapsed_sections": [
        "Qmy_sNhvFVhd",
        "X8zcr9xRFqEI",
        "1gFFW_ciW6Lj",
        "_tt0VCPDFhIs"
      ]
    },
    "kernelspec": {
      "name": "python3",
      "display_name": "Python 3"
    },
    "language_info": {
      "name": "python"
    }
  },
  "cells": [
    {
      "cell_type": "markdown",
      "source": [
        "# Motor Imagery EEG Classification using CSP and Machine Learning\n",
        "\n",
        "[![Open In Colab](https://colab.research.google.com/assets/colab-badge.svg)](https://colab.research.google.com/github/yourusername/reponame/blob/main/EEG_Classification.ipynb)\n",
        "\n",
        "**A comprehensive pipeline for motor imagery EEG signal classification using Common Spatial Patterns (CSP) and machine learning models.**\n",
        "\n",
        "## Table of Contents\n",
        "1. [Setup & Installation](#setup)\n",
        "2. [Data Loading](#data-loading)\n",
        "3. [Core Functions](#core-functions)\n",
        "4. [Signal Visualization](#signal-visualization)\n",
        "5. [Data Preprocessing](#data-preprocessing)\n",
        "6. [Model Training & Evaluation](#model-training)\n",
        "7. [Results](#results)\n"
      ],
      "metadata": {
        "id": "U9QWvxd9wNSo"
      }
    },
    {
      "cell_type": "markdown",
      "source": [
        "<a name=\"setup\"></a>\n",
        "## 1. Setup & Installation"
      ],
      "metadata": {
        "id": "AwGjDIaXe7J5"
      }
    },
    {
      "cell_type": "code",
      "source": [
        "import scipy.io\n",
        "import numpy as np\n",
        "import scipy.signal\n",
        "from sklearn import svm\n",
        "from numpy import linalg\n",
        "from matplotlib import mlab\n",
        "from google.colab import drive\n",
        "import matplotlib.pyplot as plt\n",
        "from sklearn.model_selection import cross_val_score\n",
        "from sklearn.linear_model import LogisticRegression"
      ],
      "metadata": {
        "id": "jtD-i_2pIUYj"
      },
      "execution_count": 1,
      "outputs": []
    },
    {
      "cell_type": "markdown",
      "source": [
        "<a name=\"data-loading\"></a>\n",
        "## 2. Data Loading"
      ],
      "metadata": {
        "id": "Qmy_sNhvFVhd"
      }
    },
    {
      "cell_type": "code",
      "source": [
        "!wget http://bbci.de/competition/download/competition_iv/BCICIV_1_mat.zip\n",
        "!unzip BCICIV_1_mat.zip"
      ],
      "metadata": {
        "id": "vU5O06cFa_vf",
        "colab": {
          "base_uri": "https://localhost:8080/"
        },
        "outputId": "98c44995-7533-4d21-9ac2-9bc4cc41d491"
      },
      "execution_count": 2,
      "outputs": [
        {
          "output_type": "stream",
          "name": "stdout",
          "text": [
            "--2025-02-02 23:07:37--  http://bbci.de/competition/download/competition_iv/BCICIV_1_mat.zip\n",
            "Resolving bbci.de (bbci.de)... 130.149.80.149\n",
            "Connecting to bbci.de (bbci.de)|130.149.80.149|:80... connected.\n",
            "HTTP request sent, awaiting response... 301 Moved Permanently\n",
            "Location: https://bbci.de/competition/download/competition_iv/BCICIV_1_mat.zip [following]\n",
            "--2025-02-02 23:07:37--  https://bbci.de/competition/download/competition_iv/BCICIV_1_mat.zip\n",
            "Connecting to bbci.de (bbci.de)|130.149.80.149|:443... connected.\n",
            "HTTP request sent, awaiting response... 200 OK\n",
            "Length: 252211988 (241M) [application/zip]\n",
            "Saving to: ‘BCICIV_1_mat.zip’\n",
            "\n",
            "BCICIV_1_mat.zip    100%[===================>] 240.53M  27.1MB/s    in 9.7s    \n",
            "\n",
            "2025-02-02 23:07:47 (24.9 MB/s) - ‘BCICIV_1_mat.zip’ saved [252211988/252211988]\n",
            "\n",
            "Archive:  BCICIV_1_mat.zip\n",
            "  inflating: BCICIV_calib_ds1a.mat   \n",
            "  inflating: BCICIV_calib_ds1b.mat   \n",
            "  inflating: BCICIV_calib_ds1c.mat   \n",
            "  inflating: BCICIV_calib_ds1d.mat   \n",
            "  inflating: BCICIV_calib_ds1e.mat   \n",
            "  inflating: BCICIV_calib_ds1f.mat   \n",
            "  inflating: BCICIV_calib_ds1g.mat   \n",
            "  inflating: BCICIV_eval_ds1a.mat    \n",
            "  inflating: BCICIV_eval_ds1b.mat    \n",
            "  inflating: BCICIV_eval_ds1c.mat    \n",
            "  inflating: BCICIV_eval_ds1d.mat    \n",
            "  inflating: BCICIV_eval_ds1e.mat    \n",
            "  inflating: BCICIV_eval_ds1f.mat    \n",
            "  inflating: BCICIV_eval_ds1g.mat    \n"
          ]
        }
      ]
    },
    {
      "cell_type": "code",
      "source": [
        "persons = ['a','b','c','d','e','f','g']\n",
        "all_signals = []\n",
        "for i in persons:\n",
        "  all_signals.append(scipy.io.loadmat('/content/BCICIV_calib_ds1'+str(i)+'.mat',struct_as_record=True))\n",
        "all_signals = np.array(all_signals)"
      ],
      "metadata": {
        "id": "MdbREdWqGqKv"
      },
      "execution_count": 3,
      "outputs": []
    },
    {
      "cell_type": "markdown",
      "source": [
        "<a name=\"core-functions\"></a>\n",
        "## 3. Core Functions"
      ],
      "metadata": {
        "id": "X8zcr9xRFqEI"
      }
    },
    {
      "cell_type": "code",
      "source": [
        "def psd(trials): # A Power Spectral Density (PSD) is the measure of signal's power content versus frequency\n",
        "\n",
        "    ntrials = trials.shape[2]\n",
        "    trials_PSD = np.zeros((nchannels, (nsamples//2) + 1, ntrials))\n",
        "\n",
        "    for trial in range(ntrials):\n",
        "        for ch in range(nchannels):\n",
        "            (PSD, freqs) = mlab.psd(trials[ch,:,trial], NFFT=int(nsamples), Fs=sample_rate)\n",
        "            trials_PSD[ch, :, trial] = PSD.ravel()\n",
        "\n",
        "    return trials_PSD, freqs"
      ],
      "metadata": {
        "id": "6Rc2iFufT3j9"
      },
      "execution_count": 4,
      "outputs": []
    },
    {
      "cell_type": "code",
      "source": [
        "def plot_psd(trials_PSD, freqs, chan_ind, chan_lab=None, maxy=None):\n",
        "\n",
        "    plt.figure(figsize=(12,5))\n",
        "\n",
        "    nchans = len(chan_ind)\n",
        "\n",
        "    # Maximum of 3 plots per row\n",
        "    nrows = int(np.ceil(nchans / 3))\n",
        "    ncols = min(3, nchans)\n",
        "\n",
        "    # Enumerate over the channels\n",
        "    for i,ch in enumerate(chan_ind):\n",
        "        # Figure out which subplot to draw to\n",
        "        plt.subplot(nrows,ncols,i+1)\n",
        "\n",
        "        # Plot the PSD for each class\n",
        "        for cl in cl_lab:\n",
        "            plt.plot(freqs, np.mean(trials_PSD[cl][ch,:,:], axis=1), label=cl)\n",
        "\n",
        "        # All plot decoration below...\n",
        "\n",
        "        plt.xlim(1,30)\n",
        "\n",
        "        if maxy != None:\n",
        "            plt.ylim(0,maxy)\n",
        "\n",
        "        plt.grid()\n",
        "\n",
        "        plt.xlabel('Frequency (Hz)')\n",
        "\n",
        "        if chan_lab == None:\n",
        "            plt.title('Channel %d' % (ch+1))\n",
        "        else:\n",
        "            plt.title(chan_lab[i])\n",
        "\n",
        "        plt.legend()\n",
        "\n",
        "    plt.tight_layout()"
      ],
      "metadata": {
        "id": "4Jd0ysngar5D"
      },
      "execution_count": 5,
      "outputs": []
    },
    {
      "cell_type": "code",
      "source": [
        "def bandpass(trials, lo, hi, sample_rate): #We will follow a classic BCI design by Blankertz et al. [1] where they use the logarithm of the variance of the signal in a certain frequency band as a feature for the classifier.\n",
        "\n",
        "    a, b = scipy.signal.iirfilter(6, [lo/(sample_rate/2.0), hi/(sample_rate/2.0)])\n",
        "\n",
        "    ntrials = trials.shape[2]\n",
        "    trials_filt = np.zeros((nchannels, nsamples, ntrials))\n",
        "    for i in range(ntrials):\n",
        "        trials_filt[:,:,i] = scipy.signal.filtfilt(a, b, trials[:,:,i], axis=1)\n",
        "\n",
        "    return trials_filt"
      ],
      "metadata": {
        "id": "ZMpM03sRf4lB"
      },
      "execution_count": 6,
      "outputs": []
    },
    {
      "cell_type": "code",
      "source": [
        "def plot_logvar(trials):\n",
        "    plt.figure(figsize=(12,5))\n",
        "\n",
        "    x0 = np.arange(nchannels)\n",
        "    x1 = np.arange(nchannels) + 0.4\n",
        "\n",
        "    y0 = np.mean(trials[cl1], axis=1)\n",
        "    y1 = np.mean(trials[cl2], axis=1)\n",
        "\n",
        "    plt.bar(x0, y0, width=0.5, color='b')\n",
        "    plt.bar(x1, y1, width=0.4, color='r')\n",
        "\n",
        "    plt.xlim(-0.5, nchannels+0.5)\n",
        "\n",
        "    plt.gca().yaxis.grid(True)\n",
        "    plt.title('log-var of each channel/component')\n",
        "    plt.xlabel('channels/components')\n",
        "    plt.ylabel('log-var')\n",
        "    plt.legend(cl_lab)"
      ],
      "metadata": {
        "id": "AgIh48vetwW8"
      },
      "execution_count": 7,
      "outputs": []
    },
    {
      "cell_type": "code",
      "source": [
        "def cov(trials):\n",
        "    ''' Calculate the covariance for each trial and return their average '''\n",
        "    ntrials = trials.shape[2]\n",
        "    covs = [ trials[:,:,i].dot(trials[:,:,i].T) / nsamples for i in range(ntrials) ]\n",
        "    return np.mean(covs, axis=0)\n",
        "\n",
        "def whitening(sigma):\n",
        "    ''' Calculate a whitening matrix for covariance matrix sigma. '''\n",
        "    U, l, _ = linalg.svd(sigma)\n",
        "    return U.dot( np.diag(l ** -0.5) )\n",
        "\n",
        "def csp(trials_r, trials_f):\n",
        "    '''\n",
        "\n",
        "    The Common Spatial Pattern (CSP) algorithm is an effective and popular method for classifying 2-class motor imagery electroencephalogram (EEG) data, but its effectiveness depends on the subject-specific frequency band\n",
        "\n",
        "    Calculate the CSP transformation matrix W.\n",
        "    arguments:\n",
        "        trials_r - Array (channels x samples x trials) containing right hand movement trials\n",
        "        trials_f - Array (channels x samples x trials) containing foot movement trials\n",
        "    returns:\n",
        "        Mixing matrix W\n",
        "    '''\n",
        "    cov_r = cov(trials_r)\n",
        "    cov_f = cov(trials_f)\n",
        "    P = whitening(cov_r + cov_f)\n",
        "    B, _, _ = linalg.svd( P.T.dot(cov_f).dot(P) )\n",
        "    W = P.dot(B)\n",
        "    return W\n",
        "\n",
        "def apply_mix(W, trials):\n",
        "    ''' Apply a mixing matrix to each trial (basically multiply W with the EEG signal matrix)'''\n",
        "    ntrials = trials.shape[2]\n",
        "    trials_csp = np.zeros((nchannels, nsamples, ntrials))\n",
        "    for i in range(ntrials):\n",
        "        trials_csp[:,:,i] = W.T.dot(trials[:,:,i])\n",
        "    return trials_csp"
      ],
      "metadata": {
        "id": "QIxtBOndt6aa"
      },
      "execution_count": 8,
      "outputs": []
    },
    {
      "cell_type": "code",
      "source": [
        "def plot_scatter(left, right):\n",
        "    plt.figure()\n",
        "    plt.scatter(left[0,:], left[-1,:], color='b')\n",
        "    plt.scatter(right[0,:], right[-1,:], color='r')\n",
        "    plt.xlabel('Last component')\n",
        "    plt.ylabel('First component')\n",
        "    plt.legend(cl_lab)"
      ],
      "metadata": {
        "id": "tQ1x6NBdx_QI"
      },
      "execution_count": 9,
      "outputs": []
    },
    {
      "cell_type": "markdown",
      "source": [
        "<a name=\"signal-visualization\"></a>\n",
        "## 4. Signal Visualization"
      ],
      "metadata": {
        "id": "1gFFW_ciW6Lj"
      }
    },
    {
      "cell_type": "code",
      "source": [
        "m = all_signals[3]\n",
        "sample_rate = m['nfo']['fs'][0][0][0][0]\n",
        "EEG = m['cnt'].T\n",
        "nchannels, nsamples = EEG.shape\n",
        "\n",
        "channel_names = [s[0] for s in m['nfo']['clab'][0][0][0]]\n",
        "event_onsets = m['mrk'][0][0][0]\n",
        "event_codes = m['mrk'][0][0][1]\n",
        "labels = np.zeros((1, nsamples), int)\n",
        "labels[0, event_onsets] = event_codes\n",
        "\n",
        "cl_lab = [s[0] for s in m['nfo']['classes'][0][0][0]]\n",
        "cl1 = cl_lab[0]\n",
        "cl2 = cl_lab[1]\n",
        "nclasses = len(cl_lab)\n",
        "nevents = len(event_onsets)\n",
        "\n",
        "temp = {}\n",
        "\n",
        "win = np.arange(int(0.5*sample_rate), int(2.5*sample_rate))\n",
        "\n",
        "nsamples = len(win)\n",
        "\n",
        "for cl, code in zip(cl_lab, np.unique(event_codes)):\n",
        "\n",
        "    cl_onsets = event_onsets[event_codes == code]\n",
        "\n",
        "    temp[cl] = np.zeros((nchannels, nsamples, len(cl_onsets)))\n",
        "\n",
        "    for i, onset in enumerate(cl_onsets):\n",
        "        temp[cl][:,:,i] = EEG[:, win+onset]\n",
        "\n",
        "trials_filt = {cl1: bandpass(temp[cl1], 8, 15, sample_rate),\n",
        "               cl2: bandpass(temp[cl2], 8, 15, sample_rate)}\n",
        "\n",
        "psd_r, freqs = psd(trials_filt[cl1])\n",
        "psd_f, freqs = psd(trials_filt[cl2])\n",
        "trials_PSD = {cl1: psd_r, cl2: psd_f}\n",
        "\n",
        "plot_psd(\n",
        "    trials_PSD,\n",
        "    freqs,\n",
        "    [channel_names.index(ch) for ch in ['C3', 'Cz', 'C4']],\n",
        "    chan_lab=['left', 'center', 'right'],\n",
        "    maxy=300\n",
        ")"
      ],
      "metadata": {
        "colab": {
          "base_uri": "https://localhost:8080/",
          "height": 0
        },
        "id": "jAUwRzMIWsj7",
        "outputId": "0244eed9-829b-45aa-8400-b4a5d02a5d30"
      },
      "execution_count": 10,
      "outputs": [
        {
          "output_type": "display_data",
          "data": {
            "text/plain": [
              "<Figure size 1200x500 with 3 Axes>"
            ],
            "image/png": "[encoded data removed]"
          },
          "metadata": {}
        }
      ]
    },
    {
      "cell_type": "markdown",
      "source": [
        "\n",
        "<a name=\"data-preprocessing\"></a>\n",
        "\n",
        "\n",
        "## 5. Data Preprocessing"
      ],
      "metadata": {
        "id": "_tt0VCPDFhIs"
      }
    },
    {
      "cell_type": "code",
      "source": [
        "X = np.ndarray((0,2))\n",
        "Y = np.ndarray((0,1))\n",
        "tests_X = []\n",
        "tests_Y = []\n",
        "\n",
        "for m in all_signals:\n",
        "  sample_rate = m['nfo']['fs'][0][0][0][0]\n",
        "  EEG = m['cnt'].T\n",
        "  nchannels, nsamples = EEG.shape\n",
        "  channel_names = [s[0] for s in m['nfo']['clab'][0][0][0]]\n",
        "  event_onsets = m['mrk'][0][0][0]\n",
        "  event_codes = m['mrk'][0][0][1]\n",
        "  labels = np.zeros((1, nsamples), int)\n",
        "  labels[0, event_onsets] = event_codes\n",
        "  cl_lab = [s[0] for s in m['nfo']['classes'][0][0][0]]\n",
        "  cl_lab[1] = 'right'\n",
        "  cl1 = cl_lab[0]\n",
        "  cl2 = cl_lab[1]\n",
        "  nclasses = len(cl_lab)\n",
        "  nevents = len(event_onsets)\n",
        "\n",
        "  trials = {}\n",
        "\n",
        "  win = np.arange(int(0.5*sample_rate), int(2.5*sample_rate)) # 2 seconds after the onset\n",
        "\n",
        "  nsamples = len(win)\n",
        "\n",
        "  for cl, code in zip(cl_lab, np.unique(event_codes)):\n",
        "\n",
        "    cl_onsets = event_onsets[event_codes == code]\n",
        "\n",
        "    trials[cl] = np.zeros((nchannels, nsamples, len(cl_onsets)))\n",
        "\n",
        "    for i, onset in enumerate(cl_onsets):\n",
        "        trials[cl][:,:,i] = EEG[:, win+onset]\n",
        "\n",
        "  trials_filt = {cl1: bandpass(trials[cl1], 8, 15, sample_rate),\n",
        "               cl2: bandpass(trials[cl2], 8, 15, sample_rate)}\n",
        "\n",
        "  train_percentage = 0.8\n",
        "\n",
        "  train_size = int(trials_filt[cl1].shape[2] * train_percentage)\n",
        "\n",
        "\n",
        "  train = {cl1: trials_filt[cl1][:,:,:],\n",
        "         cl2: trials_filt[cl2][:,:,:]}\n",
        "\n",
        "  test = {cl1: trials_filt[cl1][:,:,train_size:],\n",
        "        cl2: trials_filt[cl2][:,:,train_size:]}\n",
        "\n",
        "  W = csp(train[cl1], train[cl2])\n",
        "\n",
        "  train[cl1] = apply_mix(W, train[cl1])\n",
        "  train[cl2] = apply_mix(W, train[cl2])\n",
        "\n",
        "  test[cl1] = apply_mix(W, test[cl1])\n",
        "  test[cl2] = apply_mix(W, test[cl2])\n",
        "\n",
        "  comp = np.array([0,-1])\n",
        "  train[cl1] = train[cl1][comp,:,:]\n",
        "  train[cl2] = train[cl2][comp,:,:]\n",
        "  test[cl1] = test[cl1][comp,:,:]\n",
        "  test[cl2] = test[cl2][comp,:,:]\n",
        "\n",
        "  train[cl1] = np.log(np.var(train[cl1], axis=1))\n",
        "  train[cl2] = np.log(np.var(train[cl2], axis=1))\n",
        "\n",
        "  test[cl1] = np.log(np.var(test[cl1], axis=1))\n",
        "  test[cl2] = np.log(np.var(test[cl2], axis=1))\n",
        "\n",
        "  testX = np.concatenate((test[cl1],test[cl2]),axis=1)\n",
        "\n",
        "  testY = np.zeros((test[cl1].shape[1]+test[cl2].shape[1],1))\n",
        "  testY[:test[cl1].shape[1]] = -1\n",
        "  testY[test[cl1].shape[1]:] = 1\n",
        "\n",
        "  tests_X.append(testX.T)\n",
        "  tests_Y.append(testY)\n",
        "\n",
        "  trainX = np.concatenate((train[cl1],train[cl2]),axis=1)\n",
        "  trainY = np.zeros((train[cl1].shape[1]+train[cl2].shape[1],1))\n",
        "\n",
        "  trainY[:train[cl1].shape[1]] = -1\n",
        "  trainY[train[cl1].shape[1]:] = 1\n",
        "\n",
        "  X = np.concatenate((X,trainX.T),axis=0)\n",
        "  Y = np.concatenate((Y,trainY),axis=0)"
      ],
      "metadata": {
        "id": "rdVcop86KfWz"
      },
      "execution_count": 11,
      "outputs": []
    },
    {
      "cell_type": "code",
      "source": [
        "tests_X = np.array(tests_X)\n",
        "tests_Y = np.array(tests_Y)"
      ],
      "metadata": {
        "id": "e70GGZbTSPU4"
      },
      "execution_count": 12,
      "outputs": []
    },
    {
      "cell_type": "code",
      "source": [
        "X.shape"
      ],
      "metadata": {
        "colab": {
          "base_uri": "https://localhost:8080/"
        },
        "id": "-YWMRPFxf1rf",
        "outputId": "c936f938-7cb9-4384-f400-091532e05863"
      },
      "execution_count": 13,
      "outputs": [
        {
          "output_type": "execute_result",
          "data": {
            "text/plain": [
              "(1400, 2)"
            ]
          },
          "metadata": {},
          "execution_count": 13
        }
      ]
    },
    {
      "cell_type": "markdown",
      "source": [
        "<a name=\"model-training\"></a>\n",
        "\n",
        "\n",
        "## 6. Model Training & Evaluation"
      ],
      "metadata": {
        "id": "OjMVIe_kgFWX"
      }
    },
    {
      "cell_type": "code",
      "source": [
        "SVM_Model = svm.SVC(kernel='rbf')\n",
        "LOG_REG_Model = LogisticRegression()"
      ],
      "metadata": {
        "id": "ftaNm5AIDd_H"
      },
      "execution_count": 14,
      "outputs": []
    },
    {
      "cell_type": "code",
      "source": [
        "SVM_scores = cross_val_score(SVM_Model, X, Y.ravel(), cv=5)\n",
        "LOG_REG_scores = cross_val_score(LOG_REG_Model, X, Y.ravel(), cv=5)"
      ],
      "metadata": {
        "id": "6DAJQatJP0d4"
      },
      "execution_count": 15,
      "outputs": []
    },
    {
      "cell_type": "code",
      "source": [
        "print('SVM Model Scores: ' + str(SVM_scores))\n",
        "print('LOG Model Scores: ' + str(LOG_REG_scores))"
      ],
      "metadata": {
        "colab": {
          "base_uri": "https://localhost:8080/"
        },
        "id": "9iyyPnw9cm-H",
        "outputId": "a8cfa82c-036d-4df0-d867-3a621fd17a41"
      },
      "execution_count": 16,
      "outputs": [
        {
          "output_type": "stream",
          "name": "stdout",
          "text": [
            "SVM Model Scores: [0.67142857 0.86785714 0.93571429 0.9        0.93571429]\n",
            "LOG Model Scores: [0.67857143 0.86428571 0.92857143 0.89642857 0.925     ]\n"
          ]
        }
      ]
    },
    {
      "cell_type": "markdown",
      "source": [
        "<a name=\"results\"></a>\n",
        "## 7. Results"
      ],
      "metadata": {
        "id": "a4wQxiP2etfx"
      }
    },
    {
      "cell_type": "code",
      "source": [
        "SVM_Model = svm.SVC(kernel='rbf')\n",
        "_ = SVM_Model.fit(X,Y.ravel())"
      ],
      "metadata": {
        "id": "y8cw6SZFeshG"
      },
      "execution_count": 17,
      "outputs": []
    },
    {
      "cell_type": "code",
      "source": [
        "LOG_REG_Model = LogisticRegression()\n",
        "_ = LOG_REG_Model.fit(X,Y.ravel())"
      ],
      "metadata": {
        "id": "6FopicEozug4"
      },
      "execution_count": 18,
      "outputs": []
    },
    {
      "cell_type": "code",
      "source": [
        "print(' _______________________________________________ ')\n",
        "print('||                   ||  LOG REG  ||    SVM    ||')\n",
        "for x,y,p in zip(tests_X,tests_Y,persons):\n",
        "  print('|| person '+ p + ' accuracy ||   '+ str(LOG_REG_Model.score(x,y)*100) + '%   ||   ' + str(SVM_Model.score(x,y)*100) + '%   ||')\n",
        "print('||___________________||___________||___________||')\n"
      ],
      "metadata": {
        "colab": {
          "base_uri": "https://localhost:8080/"
        },
        "id": "4uOMxH5Mi1H_",
        "outputId": "0d5f864e-a61a-49cd-fe33-a03503a4c059"
      },
      "execution_count": 19,
      "outputs": [
        {
          "output_type": "stream",
          "name": "stdout",
          "text": [
            " _______________________________________________ \n",
            "||                   ||  LOG REG  ||    SVM    ||\n",
            "|| person a accuracy ||   72.5%   ||   75.0%   ||\n",
            "|| person b accuracy ||   77.5%   ||   82.5%   ||\n",
            "|| person c accuracy ||   95.0%   ||   92.5%   ||\n",
            "|| person d accuracy ||   95.0%   ||   95.0%   ||\n",
            "|| person e accuracy ||   95.0%   ||   97.5%   ||\n",
            "|| person f accuracy ||   97.5%   ||   100.0%   ||\n",
            "|| person g accuracy ||   92.5%   ||   92.5%   ||\n",
            "||___________________||___________||___________||\n"
          ]
        }
      ]
    }
  ]
}